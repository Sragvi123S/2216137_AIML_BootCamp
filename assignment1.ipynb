{
  "nbformat": 4,
  "nbformat_minor": 0,
  "metadata": {
    "colab": {
      "name": "assignment1.ipynb",
      "provenance": [],
      "authorship_tag": "ABX9TyPUU8obYXWg1vS40u5+hNXw",
      "include_colab_link": true
    },
    "kernelspec": {
      "name": "python3",
      "display_name": "Python 3"
    },
    "language_info": {
      "name": "python"
    }
  },
  "cells": [
    {
      "cell_type": "markdown",
      "metadata": {
        "id": "view-in-github",
        "colab_type": "text"
      },
      "source": [
        "<a href=\"https://colab.research.google.com/github/Sragvi123S/2216137_AIML_BootCamp/blob/main/assignment1.ipynb\" target=\"_parent\"><img src=\"https://colab.research.google.com/assets/colab-badge.svg\" alt=\"Open In Colab\"/></a>"
      ]
    },
    {
      "cell_type": "markdown",
      "source": [
        "1. Implement the methods of String with examples."
      ],
      "metadata": {
        "id": "AFME0hOT11yd"
      }
    },
    {
      "cell_type": "code",
      "source": [
        "str=\"Sragvi Reddy\"\n",
        "print(str.upper())\n",
        "print(str.lower())\n",
        "print(str.swapcase())\n",
        "print(str.capitalize())\n",
        "print(str.title())\n",
        "\n"
      ],
      "metadata": {
        "colab": {
          "base_uri": "https://localhost:8080/"
        },
        "id": "YvdWS2KG16Jw",
        "outputId": "e1d3f2cf-989d-4aa5-b402-cd101326bfa1"
      },
      "execution_count": null,
      "outputs": [
        {
          "output_type": "stream",
          "name": "stdout",
          "text": [
            "SRAGVI REDDY\n",
            "sragvi reddy\n",
            "sRAGVI rEDDY\n",
            "Sragvi reddy\n",
            "Sragvi Reddy\n"
          ]
        }
      ]
    },
    {
      "cell_type": "code",
      "source": [
        "str1=\"my name is Srgavi Reddy\"\n",
        "print(str1.strip())\n",
        "print(str1.lstrip())\n",
        "print(str1.rstrip())"
      ],
      "metadata": {
        "colab": {
          "base_uri": "https://localhost:8080/"
        },
        "id": "vFdgkOiH5aEK",
        "outputId": "1e341efc-e7f8-4d6d-86ef-439a7539fa4d"
      },
      "execution_count": null,
      "outputs": [
        {
          "output_type": "stream",
          "name": "stdout",
          "text": [
            "my name is Srgavi Reddy\n",
            "my name is Srgavi Reddy\n",
            "my name is Srgavi Reddy\n"
          ]
        }
      ]
    },
    {
      "cell_type": "markdown",
      "source": [
        "2.Implement the methods of List with examples."
      ],
      "metadata": {
        "id": "G188-6BLqeUB"
      }
    },
    {
      "cell_type": "code",
      "source": [
        "l1=[1,2,3,4]\n",
        "l1.append(7)\n",
        "print(l1)\n",
        "l1.insert(4,6)\n",
        "print(l1)\n",
        "l1.append([8,9])\n",
        "print(l1)"
      ],
      "metadata": {
        "colab": {
          "base_uri": "https://localhost:8080/"
        },
        "id": "fvdZmshUqtk6",
        "outputId": "a8cf4ea4-0573-4a17-c90a-d532f3dd41c9"
      },
      "execution_count": null,
      "outputs": [
        {
          "output_type": "stream",
          "name": "stdout",
          "text": [
            "[1, 2, 3, 4, 7]\n",
            "[1, 2, 3, 4, 6, 7]\n",
            "[1, 2, 3, 4, 6, 7, [8, 9]]\n"
          ]
        }
      ]
    },
    {
      "cell_type": "markdown",
      "source": [
        "3. Implement the methods of Tuple with examples."
      ],
      "metadata": {
        "id": "V76f2DLaFQ81"
      }
    },
    {
      "cell_type": "code",
      "source": [
        "my_tuple=()\n",
        "print(my_tuple)\n",
        "my_tuple=(5,6,7,8)\n",
        "print(my_tuple)\n",
        "my_tuple=(6,\"sragvi\",7.5)\n",
        "print(my_tuple)"
      ],
      "metadata": {
        "colab": {
          "base_uri": "https://localhost:8080/"
        },
        "id": "NXE4y19lHVtA",
        "outputId": "e9e9fc2f-5a92-4bb8-bff7-6119b647fc97"
      },
      "execution_count": null,
      "outputs": [
        {
          "output_type": "stream",
          "name": "stdout",
          "text": [
            "()\n",
            "(5, 6, 7, 8)\n",
            "(6, 'sragvi', 7.5)\n"
          ]
        }
      ]
    },
    {
      "cell_type": "markdown",
      "source": [
        "4. Implement the methods of Dictionary with examples."
      ],
      "metadata": {
        "id": "3vp6xIkRIYqO"
      }
    },
    {
      "cell_type": "code",
      "source": [
        "my_dict={'name':'Sragvi','branch':'CSE AIML','clg name':'SRU'}\n",
        "print(my_dict['name'])\n",
        "print(my_dict.keys())\n",
        "print(my_dict.values())\n",
        "print(my_dict.get('branch'))"
      ],
      "metadata": {
        "colab": {
          "base_uri": "https://localhost:8080/"
        },
        "id": "4NzuRLzqIiDJ",
        "outputId": "7aff4034-eed8-4369-ad14-1a85385e5cd6"
      },
      "execution_count": null,
      "outputs": [
        {
          "output_type": "stream",
          "name": "stdout",
          "text": [
            "Sragvi\n",
            "dict_keys(['name', 'branch', 'clg name'])\n",
            "dict_values(['Sragvi', 'CSE AIML', 'SRU'])\n",
            "CSE AIML\n"
          ]
        }
      ]
    },
    {
      "cell_type": "markdown",
      "source": [
        "5. Implement the methods of Set with examples"
      ],
      "metadata": {
        "id": "Idug6IkvJrDF"
      }
    },
    {
      "cell_type": "code",
      "source": [
        "a={1,3,5,7}\n",
        "b={2,4,5,8,9}\n",
        "print(a|b)\n",
        "print(a.union(b))\n",
        "print(b.union(a))"
      ],
      "metadata": {
        "colab": {
          "base_uri": "https://localhost:8080/"
        },
        "id": "SwzuAwnTJz6p",
        "outputId": "1e953066-8f5e-485c-d4b5-cc9cd092ef11"
      },
      "execution_count": null,
      "outputs": [
        {
          "output_type": "stream",
          "name": "stdout",
          "text": [
            "{1, 2, 3, 4, 5, 7, 8, 9}\n",
            "{1, 2, 3, 4, 5, 7, 8, 9}\n",
            "{1, 2, 3, 4, 5, 7, 8, 9}\n"
          ]
        }
      ]
    },
    {
      "cell_type": "markdown",
      "source": [
        "6. Write a python program to convert Decimal to Binary, Octal and Hexadecimal with\n",
        "direct method.\n"
      ],
      "metadata": {
        "id": "DoQu6d90Keid"
      }
    },
    {
      "cell_type": "code",
      "source": [
        "dec=223\n",
        "print(\"the decimal value of\",dec,\"is:\")\n",
        "print(bin(dec),\"in binary\")\n",
        "print(oct(dec),\"in octal\")\n",
        "print(hex(dec),\"in hexadecimal\")"
      ],
      "metadata": {
        "colab": {
          "base_uri": "https://localhost:8080/"
        },
        "id": "8dhvILAQKlrP",
        "outputId": "365626eb-9186-4aa0-f9d9-9e42f088a9ca"
      },
      "execution_count": null,
      "outputs": [
        {
          "output_type": "stream",
          "name": "stdout",
          "text": [
            "the decimal value of 223 is:\n",
            "0b11011111 in binary\n",
            "0o337 in octal\n",
            "0xdf in hexadecimal\n"
          ]
        }
      ]
    },
    {
      "cell_type": "markdown",
      "source": [
        "12.Implement Membership operators with examples."
      ],
      "metadata": {
        "id": "ndihpN8rsn59"
      }
    },
    {
      "cell_type": "code",
      "source": [
        "x = 'Hello world'\n",
        "y = {1:'a',2:'b'}\n",
        "print('H' in x)\n",
        "print('hello' not in x)\n",
        "print(1 in y)\n",
        "print('a' in y)"
      ],
      "metadata": {
        "colab": {
          "base_uri": "https://localhost:8080/"
        },
        "id": "3QNGVBZlsNzK",
        "outputId": "493a777b-4bc7-4fc7-b5a2-6c4f05534725"
      },
      "execution_count": null,
      "outputs": [
        {
          "output_type": "stream",
          "name": "stdout",
          "text": [
            "True\n",
            "True\n",
            "True\n",
            "False\n"
          ]
        }
      ]
    },
    {
      "cell_type": "markdown",
      "source": [
        "7.Implement Arithmetic operators with examples."
      ],
      "metadata": {
        "id": "6DWta3yI4zXe"
      }
    },
    {
      "cell_type": "code",
      "source": [
        "a=4\n",
        "b=6\n",
        "print(\"arithematic\\n\")\n",
        "print(a+b)\n",
        "print(a-b)\n",
        "print(a*b)\n",
        "print(a/b)\n",
        "print(a//b)"
      ],
      "metadata": {
        "colab": {
          "base_uri": "https://localhost:8080/"
        },
        "id": "HpCDnvCX4-ZL",
        "outputId": "1db78233-dba6-4c49-c4af-bd74ee911f8e"
      },
      "execution_count": null,
      "outputs": [
        {
          "output_type": "stream",
          "name": "stdout",
          "text": [
            "arithematic\n",
            "\n",
            "10\n",
            "-2\n",
            "24\n",
            "0.6666666666666666\n",
            "0\n"
          ]
        }
      ]
    },
    {
      "cell_type": "markdown",
      "source": [
        "8. Implement Assignment operators with examples."
      ],
      "metadata": {
        "id": "SHxq0SKK5_Gi"
      }
    },
    {
      "cell_type": "code",
      "source": [
        "a=6\n",
        "c=8\n",
        "print(\"assignment\\n\")\n",
        "c+=a\n",
        "print(c)\n",
        "c-=a\n",
        "print(c)\n",
        "c*=a\n",
        "print(c)\n",
        "c/=a\n",
        "print(c)\n",
        "c%=a\n",
        "print(c)\n",
        "c**=a\n",
        "print(c)"
      ],
      "metadata": {
        "colab": {
          "base_uri": "https://localhost:8080/"
        },
        "id": "qdH3uaqt6JWr",
        "outputId": "55820146-6fba-4bcc-fc9a-975dcbb8a11f"
      },
      "execution_count": null,
      "outputs": [
        {
          "output_type": "stream",
          "name": "stdout",
          "text": [
            "assignment\n",
            "\n",
            "14\n",
            "8\n",
            "48\n",
            "8.0\n",
            "2.0\n",
            "64.0\n"
          ]
        }
      ]
    },
    {
      "cell_type": "markdown",
      "source": [
        "9.Implement Comparison operators with examples."
      ],
      "metadata": {
        "id": "0dACWH2ktPnL"
      }
    },
    {
      "cell_type": "code",
      "source": [
        "x = 4\n",
        "y = 12\n",
        "\n",
        "print('x > y is',x>y)\n",
        "print('x < y is',x<y)\n",
        "print('x == y is',x==y)\n",
        "print('x != y is',x!=y)\n",
        "print('x >= y is',x>=y)\n",
        "print('x <= y is',x<=y)"
      ],
      "metadata": {
        "colab": {
          "base_uri": "https://localhost:8080/"
        },
        "id": "XTqvFE9AtX2d",
        "outputId": "e36df97a-15ef-4afa-d920-e6d8019c4570"
      },
      "execution_count": null,
      "outputs": [
        {
          "output_type": "stream",
          "name": "stdout",
          "text": [
            "x > y is False\n",
            "x < y is True\n",
            "x == y is False\n",
            "x != y is True\n",
            "x >= y is False\n",
            "x <= y is True\n"
          ]
        }
      ]
    },
    {
      "cell_type": "markdown",
      "source": [
        "10.Implement Logical operators with examples."
      ],
      "metadata": {
        "id": "DzTTp_TCt6Vn"
      }
    },
    {
      "cell_type": "code",
      "source": [
        "x = True\n",
        "y = False\n",
        "\n",
        "print('x and y is',x and y)\n",
        "print('x or y is',x or y)\n",
        "print('not x is',not x)"
      ],
      "metadata": {
        "colab": {
          "base_uri": "https://localhost:8080/"
        },
        "id": "3EzWNfaQuCjN",
        "outputId": "be26f581-dd85-4d1d-c5d5-e4a5ca99cde7"
      },
      "execution_count": null,
      "outputs": [
        {
          "output_type": "stream",
          "name": "stdout",
          "text": [
            "x and y is False\n",
            "x or y is True\n",
            "not x is False\n"
          ]
        }
      ]
    },
    {
      "cell_type": "markdown",
      "source": [
        "11. Implement Bitwise operators with examples."
      ],
      "metadata": {
        "id": "1roMdODX8JnI"
      }
    },
    {
      "cell_type": "code",
      "source": [
        "a=10\n",
        "b=15\n",
        "print(\"bitwise\\n\")\n",
        "print(a&b)\n",
        "print(a^b)\n",
        "print(a|b)\n",
        "print(~a)\n",
        "print(a>>2)\n",
        "print(a<<3)\n",
        "print(~b)\n",
        "print(b>>2)\n",
        "print(b<<3)"
      ],
      "metadata": {
        "colab": {
          "base_uri": "https://localhost:8080/"
        },
        "id": "rqo-ZcUn8Rm_",
        "outputId": "188bd7dc-159e-442f-8873-7e4f9f0c073d"
      },
      "execution_count": null,
      "outputs": [
        {
          "output_type": "stream",
          "name": "stdout",
          "text": [
            "bitwise\n",
            "\n",
            "10\n",
            "5\n",
            "15\n",
            "-11\n",
            "2\n",
            "80\n",
            "-16\n",
            "3\n",
            "120\n"
          ]
        }
      ]
    },
    {
      "cell_type": "markdown",
      "source": [
        "13. Implement Identity operators with examples"
      ],
      "metadata": {
        "id": "4y9q8aVE_4Wr"
      }
    },
    {
      "cell_type": "code",
      "source": [
        "print(\"identity\\n\")\n",
        "x1=4\n",
        "y1=6\n",
        "x2=\"sraGvi\"\n",
        "y2=\"sragvi\"\n",
        "x3=[1,2,3]\n",
        "y3=[1,2,3]\n",
        "print(x1 is not y1)\n",
        "print(x2 is y2)\n",
        "print(x3 is y3)"
      ],
      "metadata": {
        "colab": {
          "base_uri": "https://localhost:8080/"
        },
        "id": "kG4sWp2GAAqU",
        "outputId": "71bc4e33-a3c3-483e-e697-616f70315a5b"
      },
      "execution_count": null,
      "outputs": [
        {
          "output_type": "stream",
          "name": "stdout",
          "text": [
            "identity\n",
            "\n",
            "True\n",
            "False\n",
            "False\n"
          ]
        }
      ]
    },
    {
      "cell_type": "markdown",
      "source": [
        "14. Demonstrate Negative indexing for List and apply slicing."
      ],
      "metadata": {
        "id": "lSwyJsmVLdaz"
      }
    },
    {
      "cell_type": "code",
      "source": [
        "list=[2,1,0,7,4,6]\n",
        "k=4\n",
        "res= ~list[::-1].index(k)\n",
        "print(\"the negative index\",res)"
      ],
      "metadata": {
        "colab": {
          "base_uri": "https://localhost:8080/"
        },
        "id": "JlcUdbHMLlN9",
        "outputId": "85a70bdd-5493-4518-a561-94b6886349ea"
      },
      "execution_count": null,
      "outputs": [
        {
          "output_type": "stream",
          "name": "stdout",
          "text": [
            "the negative index -2\n"
          ]
        }
      ]
    },
    {
      "cell_type": "markdown",
      "source": [
        "15. Predict the output for the given code snippet and justify the result\n",
        "     print('A series of characters designed as one object known a a string'[::-1][4::3])\n",
        "     print(\"-----------\")\n",
        "     print('welcome to python traing program'[3:10][::-1])"
      ],
      "metadata": {
        "id": "vjGNRZ3cPB2i"
      }
    },
    {
      "cell_type": "code",
      "source": [
        "print('A series of characters designated as one object known as a string'[::-1][4::3])\n",
        "print(\"-------------------------\")\n",
        "print('Welcome to python training program'[3:10][::-1])"
      ],
      "metadata": {
        "colab": {
          "base_uri": "https://localhost:8080/"
        },
        "id": "67QAMQeYRbfk",
        "outputId": "7a859f83-52df-4835-c795-b2c01853ff47"
      },
      "execution_count": 40,
      "outputs": [
        {
          "output_type": "stream",
          "name": "stdout",
          "text": [
            "taawkcbe  tgestrcoeeA\n",
            "-------------------------\n",
            "ot emoc\n"
          ]
        }
      ]
    },
    {
      "cell_type": "markdown",
      "source": [
        "16.Write a python code to get desired output\n",
        "\n",
        "      Input string   :p_phrase=\"was it a car or a cat I saw\"\n",
        "\n",
        "      Output string  :         WAS I TAC A RO RAC A TI SAW"
      ],
      "metadata": {
        "id": "MTdA211Zwsq3"
      }
    },
    {
      "cell_type": "code",
      "source": [
        "p_phrase=\"was it a car or a cat I saw\"\n",
        "\n",
        "print(p_phrase[::-1])\n",
        "print(p_phrase.upper())"
      ],
      "metadata": {
        "colab": {
          "base_uri": "https://localhost:8080/"
        },
        "id": "NOwbhUHHw84h",
        "outputId": "98fe4435-dc17-4d11-8b35-00050c695a66"
      },
      "execution_count": null,
      "outputs": [
        {
          "output_type": "stream",
          "name": "stdout",
          "text": [
            "was I tac a ro rac a ti saw\n",
            "WAS IT A CAR OR A CAT I SAW\n"
          ]
        }
      ]
    },
    {
      "cell_type": "markdown",
      "source": [
        "17.You are required to generate a word similar to ZOO, X and Y that denote the numberof Zs and Os respectively. The generated word similar to ZOO where Y= 2 * X.\n",
        "   Input X= 2 Output ZZOOOO\n",
        "   Input X= 5 Output ZZZZZOOOOOOOOOO"
      ],
      "metadata": {
        "id": "TDWwFv70xY2S"
      }
    },
    {
      "cell_type": "code",
      "source": [
        "x=int(input(\"enter a value\"))\n",
        "y=2*x\n",
        "print('x=',x)\n",
        "print('y=',y)\n",
        "print('z'*x,'o'*y,sep='')"
      ],
      "metadata": {
        "colab": {
          "base_uri": "https://localhost:8080/"
        },
        "id": "lDzeCovgx6Lb",
        "outputId": "7a5b1005-a54c-4f3e-e577-b7c2367dfeb5"
      },
      "execution_count": 41,
      "outputs": [
        {
          "output_type": "stream",
          "name": "stdout",
          "text": [
            "enter a value4\n",
            "x= 4\n",
            "y= 8\n",
            "zzzzoooooooo\n"
          ]
        }
      ]
    }
  ]
}